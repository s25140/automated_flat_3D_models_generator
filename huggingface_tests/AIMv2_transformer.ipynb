{
 "cells": [
  {
   "cell_type": "code",
   "execution_count": 1,
   "metadata": {},
   "outputs": [
    {
     "name": "stderr",
     "output_type": "stream",
     "text": [
      "d:\\PJATK\\Dyplom\\automated_flat_3D_models_generator\\.conda\\lib\\site-packages\\tqdm\\auto.py:21: TqdmWarning: IProgress not found. Please update jupyter and ipywidgets. See https://ipywidgets.readthedocs.io/en/stable/user_install.html\n",
      "  from .autonotebook import tqdm as notebook_tqdm\n"
     ]
    }
   ],
   "source": [
    "from PIL import Image\n",
    "from transformers import AutoImageProcessor, AutoModel\n",
    "import pandas as pd\n",
    "import os\n",
    "\n",
    "not_cropped_path = \"../Datasets/not_cropped_images/\"\n",
    "cropped_path = \"../Datasets/cropped_images/\"\n",
    "\n",
    "processor = AutoImageProcessor.from_pretrained(\n",
    "    \"apple/aimv2-large-patch14-224\",\n",
    ")\n",
    "model = AutoModel.from_pretrained(\n",
    "    \"apple/aimv2-large-patch14-224\",\n",
    "    trust_remote_code=True,\n",
    ")"
   ]
  },
  {
   "cell_type": "code",
   "execution_count": 2,
   "metadata": {},
   "outputs": [],
   "source": [
    "def prepare_image(image_path):\n",
    "    image = Image.open(image_path)\n",
    "    inputs = processor(images=image, return_tensors=\"pt\")\n",
    "    return inputs\n",
    "\n",
    "def extract_features(image_path):\n",
    "    try:\n",
    "        inputs = prepare_image(image_path)\n",
    "    except Exception as e:\n",
    "        print(f\"Error processing image {image_path}: {e}\")\n",
    "        return None\n",
    "    outputs = model(**inputs)\n",
    "    return outputs.last_hidden_state.mean(dim=1).squeeze().detach().numpy()"
   ]
  },
  {
   "cell_type": "code",
   "execution_count": 4,
   "metadata": {},
   "outputs": [],
   "source": [
    "\n",
    "cropped_X = []\n",
    "cropped_y = []\n",
    "\n",
    "for img_name in os.listdir(cropped_path):\n",
    "    img_path = cropped_path + img_name\n",
    "    features = extract_features(img_path)\n",
    "    if features is None:\n",
    "        continue\n",
    "    cropped_X.append(features)\n",
    "    cropped_y.append(1)\n"
   ]
  },
  {
   "cell_type": "code",
   "execution_count": 5,
   "metadata": {},
   "outputs": [
    {
     "name": "stderr",
     "output_type": "stream",
     "text": [
      "d:\\PJATK\\Dyplom\\automated_flat_3D_models_generator\\.venv\\lib\\site-packages\\pandas\\io\\parquet.py:190: UserWarning: The DataFrame has column names of mixed type. They will be converted to strings and not roundtrip correctly.\n",
      "  table = self.api.Table.from_pandas(df, **from_pandas_kwargs)\n"
     ]
    }
   ],
   "source": [
    "# save cropped images features\n",
    "cropped_df = pd.DataFrame(cropped_X)\n",
    "cropped_df[\"label\"] = cropped_y\n",
    "cropped_df.to_parquet(\"cropped_images_features.parquet\")"
   ]
  },
  {
   "cell_type": "code",
   "execution_count": 3,
   "metadata": {},
   "outputs": [
    {
     "name": "stdout",
     "output_type": "stream",
     "text": [
      "Error processing image ../Datasets/not_cropped_images/10_224.jpg: cannot identify image file 'D:\\\\PJATK\\\\Dyplom\\\\automated_flat_3D_models_generator\\\\Datasets\\\\not_cropped_images\\\\10_224.jpg'\n",
      "Error processing image ../Datasets/not_cropped_images/11_224.jpg: cannot identify image file 'D:\\\\PJATK\\\\Dyplom\\\\automated_flat_3D_models_generator\\\\Datasets\\\\not_cropped_images\\\\11_224.jpg'\n",
      "Error processing image ../Datasets/not_cropped_images/12_224.jpg: cannot identify image file 'D:\\\\PJATK\\\\Dyplom\\\\automated_flat_3D_models_generator\\\\Datasets\\\\not_cropped_images\\\\12_224.jpg'\n",
      "Error processing image ../Datasets/not_cropped_images/13_224.jpg: cannot identify image file 'D:\\\\PJATK\\\\Dyplom\\\\automated_flat_3D_models_generator\\\\Datasets\\\\not_cropped_images\\\\13_224.jpg'\n",
      "Error processing image ../Datasets/not_cropped_images/6_224.jpg: cannot identify image file 'D:\\\\PJATK\\\\Dyplom\\\\automated_flat_3D_models_generator\\\\Datasets\\\\not_cropped_images\\\\6_224.jpg'\n",
      "Error processing image ../Datasets/not_cropped_images/7_224.jpg: cannot identify image file 'D:\\\\PJATK\\\\Dyplom\\\\automated_flat_3D_models_generator\\\\Datasets\\\\not_cropped_images\\\\7_224.jpg'\n",
      "Error processing image ../Datasets/not_cropped_images/8_224.jpg: cannot identify image file 'D:\\\\PJATK\\\\Dyplom\\\\automated_flat_3D_models_generator\\\\Datasets\\\\not_cropped_images\\\\8_224.jpg'\n",
      "Error processing image ../Datasets/not_cropped_images/9_224.jpg: cannot identify image file 'D:\\\\PJATK\\\\Dyplom\\\\automated_flat_3D_models_generator\\\\Datasets\\\\not_cropped_images\\\\9_224.jpg'\n"
     ]
    }
   ],
   "source": [
    "\n",
    "not_cropped_X = []\n",
    "not_cropped_y = []\n",
    "\n",
    "for img_name in os.listdir(not_cropped_path):\n",
    "    img_path = not_cropped_path + img_name\n",
    "    features = extract_features(img_path)\n",
    "    if features is None:\n",
    "        continue\n",
    "    not_cropped_X.append(features)\n",
    "    not_cropped_y.append(0)\n"
   ]
  },
  {
   "cell_type": "code",
   "execution_count": 4,
   "metadata": {},
   "outputs": [
    {
     "name": "stderr",
     "output_type": "stream",
     "text": [
      "d:\\PJATK\\Dyplom\\automated_flat_3D_models_generator\\.conda\\lib\\site-packages\\pandas\\io\\parquet.py:190: UserWarning: The DataFrame has column names of mixed type. They will be converted to strings and not roundtrip correctly.\n",
      "  table = self.api.Table.from_pandas(df, **from_pandas_kwargs)\n"
     ]
    }
   ],
   "source": [
    "# save cropped images features\n",
    "not_cropped_df = pd.DataFrame(not_cropped_X)\n",
    "not_cropped_df[\"label\"] = not_cropped_y\n",
    "not_cropped_df.to_parquet(\"not_cropped_images_features.parquet\")"
   ]
  }
 ],
 "metadata": {
  "kernelspec": {
   "display_name": "Python 3",
   "language": "python",
   "name": "python3"
  },
  "language_info": {
   "codemirror_mode": {
    "name": "ipython",
    "version": 3
   },
   "file_extension": ".py",
   "mimetype": "text/x-python",
   "name": "python",
   "nbconvert_exporter": "python",
   "pygments_lexer": "ipython3",
   "version": "3.10.16"
  }
 },
 "nbformat": 4,
 "nbformat_minor": 2
}
