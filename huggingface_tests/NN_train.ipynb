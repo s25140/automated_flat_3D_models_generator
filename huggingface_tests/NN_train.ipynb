{
 "cells": [
  {
   "cell_type": "code",
   "execution_count": 1,
   "metadata": {},
   "outputs": [],
   "source": [
    "from tensorflow.keras import Sequential\n",
    "from tensorflow.keras.layers import Dense, Flatten, Dropout, BatchNormalization\n",
    "from tensorflow.keras.optimizers import Adam\n",
    "from tensorflow.keras.callbacks import ModelCheckpoint\n",
    "\n",
    "import pandas as pd"
   ]
  },
  {
   "cell_type": "code",
   "execution_count": 2,
   "metadata": {},
   "outputs": [],
   "source": [
    "cropped_images_features = pd.read_parquet('./cropped_images_features.parquet')\n",
    "not_cropped_images_features = pd.read_parquet('./not_cropped_images_features.parquet')\n",
    "# combine the two dataframes\n",
    "df = pd.concat([cropped_images_features, not_cropped_images_features])\n",
    "# mix the rows\n",
    "df = df.sample(frac=1).reset_index(drop=True)"
   ]
  },
  {
   "cell_type": "code",
   "execution_count": 3,
   "metadata": {},
   "outputs": [],
   "source": [
    "from sklearn.model_selection import train_test_split\n",
    "X_train, X_test, y_train, y_test = train_test_split(df.drop(columns=['label']), df['label'], test_size=0.2, random_state=42)"
   ]
  },
  {
   "cell_type": "code",
   "execution_count": 4,
   "metadata": {},
   "outputs": [],
   "source": [
    "model = Sequential([\n",
    "    Flatten(input_shape=(X_train.shape[1],)),\n",
    "    Dense(128, activation='relu'),\n",
    "    BatchNormalization(),\n",
    "    Dropout(0.5),\n",
    "    Dense(1024, activation='relu'),\n",
    "    BatchNormalization(),\n",
    "    Dropout(0.5),\n",
    "    Dense(1024, activation='relu'),\n",
    "    BatchNormalization(),\n",
    "    Dropout(0.5),\n",
    "    Dense(128, activation='relu'),\n",
    "    BatchNormalization(),\n",
    "    Dropout(0.5),\n",
    "    Dense(1, activation='sigmoid'),\n",
    "])\n",
    "\n",
    "optimizer = Adam(learning_rate=0.001)\n",
    "model.compile(optimizer=optimizer, loss='binary_crossentropy', metrics=['accuracy'])\n"
   ]
  },
  {
   "cell_type": "code",
   "execution_count": 5,
   "metadata": {},
   "outputs": [
    {
     "name": "stdout",
     "output_type": "stream",
     "text": [
      "Epoch 1/20\n",
      "332/332 [==============================] - 13s 17ms/step - loss: 0.4065 - accuracy: 0.8144 - val_loss: 0.2524 - val_accuracy: 0.8750\n",
      "Epoch 2/20\n",
      "332/332 [==============================] - 5s 15ms/step - loss: 0.2332 - accuracy: 0.8978 - val_loss: 0.1560 - val_accuracy: 0.9347\n",
      "Epoch 3/20\n",
      "332/332 [==============================] - 5s 15ms/step - loss: 0.1982 - accuracy: 0.9153 - val_loss: 0.1704 - val_accuracy: 0.9268\n",
      "Epoch 4/20\n",
      "332/332 [==============================] - 5s 15ms/step - loss: 0.1839 - accuracy: 0.9210 - val_loss: 0.1341 - val_accuracy: 0.9434\n",
      "Epoch 5/20\n",
      "332/332 [==============================] - 5s 16ms/step - loss: 0.1703 - accuracy: 0.9258 - val_loss: 0.1329 - val_accuracy: 0.9402\n",
      "Epoch 6/20\n",
      "332/332 [==============================] - 5s 14ms/step - loss: 0.1667 - accuracy: 0.9293 - val_loss: 0.1372 - val_accuracy: 0.9357\n",
      "Epoch 7/20\n",
      "332/332 [==============================] - 5s 16ms/step - loss: 0.1633 - accuracy: 0.9307 - val_loss: 0.1269 - val_accuracy: 0.9451\n",
      "Epoch 8/20\n",
      "332/332 [==============================] - 5s 15ms/step - loss: 0.1530 - accuracy: 0.9357 - val_loss: 0.1397 - val_accuracy: 0.9383\n",
      "Epoch 9/20\n",
      "332/332 [==============================] - 5s 16ms/step - loss: 0.1497 - accuracy: 0.9375 - val_loss: 0.1186 - val_accuracy: 0.9517\n",
      "Epoch 10/20\n",
      "332/332 [==============================] - 5s 15ms/step - loss: 0.1459 - accuracy: 0.9396 - val_loss: 0.1589 - val_accuracy: 0.9340\n",
      "Epoch 11/20\n",
      "332/332 [==============================] - 5s 15ms/step - loss: 0.1421 - accuracy: 0.9404 - val_loss: 0.1205 - val_accuracy: 0.9532\n",
      "Epoch 12/20\n",
      "332/332 [==============================] - 5s 15ms/step - loss: 0.1354 - accuracy: 0.9445 - val_loss: 0.1194 - val_accuracy: 0.9525\n",
      "Epoch 13/20\n",
      "332/332 [==============================] - 5s 15ms/step - loss: 0.1308 - accuracy: 0.9465 - val_loss: 0.1178 - val_accuracy: 0.9534\n",
      "Epoch 14/20\n",
      "332/332 [==============================] - 5s 15ms/step - loss: 0.1298 - accuracy: 0.9461 - val_loss: 0.1129 - val_accuracy: 0.9585\n",
      "Epoch 15/20\n",
      "332/332 [==============================] - 5s 15ms/step - loss: 0.1257 - accuracy: 0.9479 - val_loss: 0.1272 - val_accuracy: 0.9485\n",
      "Epoch 16/20\n",
      "332/332 [==============================] - 5s 15ms/step - loss: 0.1255 - accuracy: 0.9492 - val_loss: 0.1121 - val_accuracy: 0.9574\n",
      "Epoch 17/20\n",
      "332/332 [==============================] - 5s 16ms/step - loss: 0.1151 - accuracy: 0.9541 - val_loss: 0.1082 - val_accuracy: 0.9604\n",
      "Epoch 18/20\n",
      "332/332 [==============================] - 5s 15ms/step - loss: 0.1148 - accuracy: 0.9535 - val_loss: 0.1510 - val_accuracy: 0.9340\n",
      "Epoch 19/20\n",
      "332/332 [==============================] - 5s 15ms/step - loss: 0.1073 - accuracy: 0.9567 - val_loss: 0.1369 - val_accuracy: 0.9496\n",
      "Epoch 20/20\n",
      "332/332 [==============================] - 5s 15ms/step - loss: 0.1118 - accuracy: 0.9549 - val_loss: 0.1097 - val_accuracy: 0.9578\n"
     ]
    },
    {
     "data": {
      "text/plain": [
       "<keras.callbacks.History at 0x1453c9de380>"
      ]
     },
     "execution_count": 5,
     "metadata": {},
     "output_type": "execute_result"
    }
   ],
   "source": [
    "model_checkpoint = 'tmp/model.keras'\n",
    "model.fit(X_train, y_train, epochs=20, batch_size=64, validation_data=(X_test, y_test), callbacks=[ModelCheckpoint(model_checkpoint, save_best_only=True)])"
   ]
  },
  {
   "cell_type": "code",
   "execution_count": 6,
   "metadata": {},
   "outputs": [
    {
     "name": "stdout",
     "output_type": "stream",
     "text": [
      "166/166 [==============================] - 1s 7ms/step - loss: 0.1082 - accuracy: 0.9604\n"
     ]
    },
    {
     "data": {
      "text/plain": [
       "[0.10824327170848846, 0.9603922963142395]"
      ]
     },
     "execution_count": 6,
     "metadata": {},
     "output_type": "execute_result"
    }
   ],
   "source": [
    "model.load_weights(model_checkpoint)\n",
    "model.evaluate(X_test, y_test)"
   ]
  }
 ],
 "metadata": {
  "kernelspec": {
   "display_name": "py310",
   "language": "python",
   "name": "python3"
  },
  "language_info": {
   "codemirror_mode": {
    "name": "ipython",
    "version": 3
   },
   "file_extension": ".py",
   "mimetype": "text/x-python",
   "name": "python",
   "nbconvert_exporter": "python",
   "pygments_lexer": "ipython3",
   "version": "3.10.13"
  }
 },
 "nbformat": 4,
 "nbformat_minor": 2
}
